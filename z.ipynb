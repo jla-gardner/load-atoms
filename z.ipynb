{
 "cells": [
  {
   "cell_type": "code",
   "execution_count": 6,
   "metadata": {},
   "outputs": [
    {
     "data": {
      "text/plain": [
       "Dataset:\n",
       "    structures: 4,530\n",
       "    atoms: 284,965\n",
       "    species:\n",
       "        C: 100.00%\n",
       "    properties:\n",
       "        per atom: ()\n",
       "        per structure: (config_type, detailed_ct, split)"
      ]
     },
     "execution_count": 6,
     "metadata": {},
     "output_type": "execute_result"
    }
   ],
   "source": [
    "from load_atoms import load_dataset\n",
    "\n",
    "ds = load_dataset(\"database/C-GAP-17/C-GAP-17.extxyz\")\n",
    "ds"
   ]
  },
  {
   "cell_type": "code",
   "execution_count": 12,
   "metadata": {},
   "outputs": [
    {
     "data": {
      "text/plain": [
       "dict_keys(['forces', 'energy'])"
      ]
     },
     "execution_count": 12,
     "metadata": {},
     "output_type": "execute_result"
    }
   ],
   "source": [
    "ds[0].calc.results.keys()"
   ]
  },
  {
   "cell_type": "code",
   "execution_count": 18,
   "metadata": {},
   "outputs": [
    {
     "data": {
      "text/plain": [
       "True"
      ]
     },
     "execution_count": 18,
     "metadata": {},
     "output_type": "execute_result"
    }
   ],
   "source": [
    "import numpy as np\n",
    "\n",
    "np.any(1==1)"
   ]
  },
  {
   "cell_type": "code",
   "execution_count": null,
   "metadata": {},
   "outputs": [],
   "source": [
    "import warnings\n",
    "from ase import Atoms\n",
    "\n",
    "\n",
    "def remove_calculator(atoms: Atoms) -> None:\n",
    "    \"\"\"\n",
    "    Intelligently remove the atom's calculator object:\n",
    "    - get the results\n",
    "    - move them to the atoms.info/array dictionary if they are not present\n",
    "    - warn if they are present\n",
    "    \"\"\"\n",
    "    calc = atoms.calc\n",
    "    if not calc:\n",
    "        return\n",
    "\n",
    "    atoms.calc = None\n",
    "    results = calc.results\n",
    "\n",
    "    mappings = {\n",
    "        \"energy\": atoms.info,\n",
    "        \"forces\": atoms.arrays,\n",
    "        \"stress\": atoms.info,\n",
    "    }\n",
    "    for key, result in results.items():\n",
    "        mapping = mappings.get(key, None)\n",
    "        if mapping is None:\n",
    "            continue\n",
    "\n",
    "        if key in mapping and np.any(mapping[key] != result):\n",
    "            warnings.warn(\n",
    "                f\"We found different values for \\\"{key}\\\" on an atoms object \"\n",
    "                \"and its calculator. We will preserve the value already on \"\n",
    "                \"the atoms object and discard that from the calculator. \",\n",
    "                stacklevel=2,\n",
    "            )\n",
    "            continue\n",
    "\n",
    "        mapping[key] = result"
   ]
  },
  {
   "cell_type": "code",
   "execution_count": 15,
   "metadata": {},
   "outputs": [
    {
     "data": {
      "text/plain": [
       "{'forces': array([[-2.20205837e+00, -2.01765205e+00, -1.59044530e-01],\n",
       "        [ 1.02614224e+00,  1.48376855e+00, -5.67939250e-01],\n",
       "        [ 3.28920068e+00,  2.02660427e+00,  9.64327050e-01],\n",
       "        [-1.19053788e+00,  1.48881743e+00, -5.72383640e-01],\n",
       "        [-3.38673100e-02,  2.38572095e+00,  3.60431572e+00],\n",
       "        [ 1.73878682e+00, -1.31527992e+00, -4.43509855e+00],\n",
       "        [-1.91744613e+00, -2.21194643e+00, -5.34852630e-01],\n",
       "        [-4.19421470e-01, -1.50425310e+00, -2.71354990e-01],\n",
       "        [ 1.39029090e-01, -1.78513039e+00,  1.19908889e+00],\n",
       "        [-4.50204450e-01,  1.03648438e+00, -1.65667893e+00],\n",
       "        [ 4.67090909e+00,  3.26395880e-01,  7.44131620e-01],\n",
       "        [-4.41121043e+00,  2.53889252e+00,  4.08531000e-03],\n",
       "        [-4.49623640e+00,  1.38529392e+00,  4.95873030e-01],\n",
       "        [-1.64098095e+00, -3.20005984e+00,  1.29837057e+00],\n",
       "        [ 3.42209453e+00, -9.98415820e-01, -4.45963630e-01],\n",
       "        [-3.32417698e+00, -1.24820907e+00,  1.25348681e+00],\n",
       "        [ 2.26551932e+00, -3.42091853e+00, -1.07084957e+00],\n",
       "        [-2.22956543e+00,  2.64603491e+00,  4.60246830e-01],\n",
       "        [-7.67321800e-01,  1.95038256e+00,  2.45751480e-01],\n",
       "        [ 4.46720730e-01,  2.88015890e+00, -2.22268960e-01],\n",
       "        [-1.75958061e+00,  3.53512226e+00, -3.17135040e-01],\n",
       "        [ 4.74699090e-01, -2.79574226e+00, -3.00556346e+00],\n",
       "        [ 3.06999844e+00, -2.13497894e+00,  8.65990200e-01],\n",
       "        [-6.75151590e-01, -1.01766719e+00, -1.78689060e-01],\n",
       "        [-2.41187310e-01, -3.11190168e+00,  2.26473253e+00],\n",
       "        [ 1.12966005e+00,  3.14877660e-01,  1.62417390e-01],\n",
       "        [-4.26562879e+00,  8.00665700e-02, -9.60570720e-01],\n",
       "        [ 1.59585771e+00,  1.44539894e+00, -8.47386800e-01],\n",
       "        [-8.18731620e-01,  3.99735754e+00, -1.37956061e+00],\n",
       "        [-2.59344027e+00, -2.67037349e+00, -1.97996990e-01],\n",
       "        [-3.12064316e+00, -1.16491800e-01,  2.08404624e+00],\n",
       "        [ 1.96427936e+00, -3.90499360e-01, -8.13557110e-01],\n",
       "        [-5.52285500e-01, -1.24142850e-01, -5.89430510e-01],\n",
       "        [-2.55644910e+00, -3.56836693e+00,  2.44912010e-01],\n",
       "        [-9.20310900e-02,  1.20588613e+00,  2.90388883e+00],\n",
       "        [-9.38318820e-01, -8.76222830e-01, -1.45527511e+00],\n",
       "        [ 2.70623866e+00, -3.60475920e-01, -3.99285597e+00],\n",
       "        [ 1.38220103e+00,  4.70229079e+00,  1.31572576e+00],\n",
       "        [-4.09513123e+00, -1.19887613e+00, -2.12968327e+00],\n",
       "        [-4.69017120e-01, -8.43742690e-01,  4.36526973e+00],\n",
       "        [ 2.57993199e+00,  5.06840663e+00,  8.96086870e-01],\n",
       "        [-1.45651425e+00, -3.60042355e+00,  3.10968318e+00],\n",
       "        [ 1.86362997e+00,  2.68915920e-01, -2.25341044e+00],\n",
       "        [-2.06974270e+00,  6.84723800e-01,  7.69334060e-01],\n",
       "        [-1.48671693e+00, -4.21281205e+00, -8.09636980e-01],\n",
       "        [ 2.99775358e+00,  4.35490439e+00,  6.59842250e-01],\n",
       "        [ 4.88368806e+00, -1.19373393e+00,  6.99328740e-01],\n",
       "        [-1.38336079e+00,  3.90523960e-01, -1.32298220e-01],\n",
       "        [ 3.01636750e+00, -1.72841138e+00,  3.21758528e+00],\n",
       "        [ 3.04542100e-02, -2.25456784e+00, -2.16916619e+00],\n",
       "        [-2.04313402e+00,  2.73296455e+00,  2.92387306e+00],\n",
       "        [ 2.20992971e+00,  1.25816960e-01, -3.01408885e+00],\n",
       "        [-3.02483075e+00,  7.33807190e-01, -8.92735700e-01],\n",
       "        [-1.05066692e+00,  3.91474340e-01,  1.92751763e+00],\n",
       "        [ 3.03256621e+00, -1.62718903e+00, -1.05841998e+00],\n",
       "        [ 1.29114701e+00, -2.15670510e+00,  7.49398250e-01],\n",
       "        [-1.20029278e+00, -1.47522725e+00, -2.09844400e-01],\n",
       "        [ 1.69847252e+00,  1.20534991e+00, -1.13477052e+00],\n",
       "        [-2.11334212e+00,  3.42714128e+00, -1.31365450e+00],\n",
       "        [ 4.11755461e+00,  8.82121310e-01, -9.53464400e-02],\n",
       "        [ 1.91612475e+00,  1.36280972e+00,  2.72489479e+00],\n",
       "        [ 2.04527917e+00,  2.50787922e+00, -4.20627899e+00],\n",
       "        [-3.60576719e+00, -2.91001986e+00,  1.31253746e+00],\n",
       "        [ 3.69075611e+00, -1.49595613e+00, -3.72951050e-01]]),\n",
       " 'energy': -9847.661671}"
      ]
     },
     "execution_count": 15,
     "metadata": {},
     "output_type": "execute_result"
    }
   ],
   "source": [
    "ds[0].calc.calculate()\n",
    "ds[0].calc.results\n"
   ]
  },
  {
   "cell_type": "code",
   "execution_count": 10,
   "metadata": {},
   "outputs": [
    {
     "ename": "PropertyNotImplementedError",
     "evalue": "The property \"stress\" is not available.",
     "output_type": "error",
     "traceback": [
      "\u001b[0;31m---------------------------------------------------------------------------\u001b[0m",
      "\u001b[0;31mPropertyNotImplementedError\u001b[0m               Traceback (most recent call last)",
      "Cell \u001b[0;32mIn [10], line 1\u001b[0m\n\u001b[0;32m----> 1\u001b[0m ds[\u001b[38;5;241m0\u001b[39m]\u001b[38;5;241m.\u001b[39mget_potential_energy(), ds[\u001b[38;5;241m0\u001b[39m]\u001b[38;5;241m.\u001b[39mget_forces(), \u001b[43mds\u001b[49m\u001b[43m[\u001b[49m\u001b[38;5;241;43m0\u001b[39;49m\u001b[43m]\u001b[49m\u001b[38;5;241;43m.\u001b[39;49m\u001b[43mget_stress\u001b[49m\u001b[43m(\u001b[49m\u001b[43m)\u001b[49m\n",
      "File \u001b[0;32m/opt/miniconda3/envs/load-atoms/lib/python3.8/site-packages/ase/atoms.py:844\u001b[0m, in \u001b[0;36mAtoms.get_stress\u001b[0;34m(self, voigt, apply_constraint, include_ideal_gas)\u001b[0m\n\u001b[1;32m    841\u001b[0m \u001b[38;5;28;01mif\u001b[39;00m \u001b[38;5;28mself\u001b[39m\u001b[38;5;241m.\u001b[39m_calc \u001b[38;5;129;01mis\u001b[39;00m \u001b[38;5;28;01mNone\u001b[39;00m:\n\u001b[1;32m    842\u001b[0m     \u001b[38;5;28;01mraise\u001b[39;00m \u001b[38;5;167;01mRuntimeError\u001b[39;00m(\u001b[38;5;124m'\u001b[39m\u001b[38;5;124mAtoms object has no calculator.\u001b[39m\u001b[38;5;124m'\u001b[39m)\n\u001b[0;32m--> 844\u001b[0m stress \u001b[38;5;241m=\u001b[39m \u001b[38;5;28;43mself\u001b[39;49m\u001b[38;5;241;43m.\u001b[39;49m\u001b[43m_calc\u001b[49m\u001b[38;5;241;43m.\u001b[39;49m\u001b[43mget_stress\u001b[49m\u001b[43m(\u001b[49m\u001b[38;5;28;43mself\u001b[39;49m\u001b[43m)\u001b[49m\n\u001b[1;32m    845\u001b[0m shape \u001b[38;5;241m=\u001b[39m stress\u001b[38;5;241m.\u001b[39mshape\n\u001b[1;32m    847\u001b[0m \u001b[38;5;28;01mif\u001b[39;00m shape \u001b[38;5;241m==\u001b[39m (\u001b[38;5;241m3\u001b[39m, \u001b[38;5;241m3\u001b[39m):\n\u001b[1;32m    848\u001b[0m     \u001b[38;5;66;03m# Convert to the Voigt form before possibly applying\u001b[39;00m\n\u001b[1;32m    849\u001b[0m     \u001b[38;5;66;03m# constraints and adding the dynamic part of the stress\u001b[39;00m\n\u001b[1;32m    850\u001b[0m     \u001b[38;5;66;03m# (the \"ideal gas contribution\").\u001b[39;00m\n",
      "File \u001b[0;32m/opt/miniconda3/envs/load-atoms/lib/python3.8/site-packages/ase/calculators/abc.py:33\u001b[0m, in \u001b[0;36mGetPropertiesMixin.get_stress\u001b[0;34m(self, atoms)\u001b[0m\n\u001b[1;32m     32\u001b[0m \u001b[38;5;28;01mdef\u001b[39;00m \u001b[38;5;21mget_stress\u001b[39m(\u001b[38;5;28mself\u001b[39m, atoms\u001b[38;5;241m=\u001b[39m\u001b[38;5;28;01mNone\u001b[39;00m):\n\u001b[0;32m---> 33\u001b[0m     \u001b[38;5;28;01mreturn\u001b[39;00m \u001b[38;5;28;43mself\u001b[39;49m\u001b[38;5;241;43m.\u001b[39;49m\u001b[43mget_property\u001b[49m\u001b[43m(\u001b[49m\u001b[38;5;124;43m'\u001b[39;49m\u001b[38;5;124;43mstress\u001b[39;49m\u001b[38;5;124;43m'\u001b[39;49m\u001b[43m,\u001b[49m\u001b[43m \u001b[49m\u001b[43matoms\u001b[49m\u001b[43m)\u001b[49m\n",
      "File \u001b[0;32m/opt/miniconda3/envs/load-atoms/lib/python3.8/site-packages/ase/calculators/singlepoint.py:49\u001b[0m, in \u001b[0;36mSinglePointCalculator.get_property\u001b[0;34m(self, name, atoms, allow_calculation)\u001b[0m\n\u001b[1;32m     47\u001b[0m \u001b[38;5;28;01mif\u001b[39;00m name \u001b[38;5;129;01mnot\u001b[39;00m \u001b[38;5;129;01min\u001b[39;00m \u001b[38;5;28mself\u001b[39m\u001b[38;5;241m.\u001b[39mresults \u001b[38;5;129;01mor\u001b[39;00m \u001b[38;5;28mself\u001b[39m\u001b[38;5;241m.\u001b[39mcheck_state(atoms):\n\u001b[1;32m     48\u001b[0m     \u001b[38;5;28;01mif\u001b[39;00m allow_calculation:\n\u001b[0;32m---> 49\u001b[0m         \u001b[38;5;28;01mraise\u001b[39;00m PropertyNotImplementedError(\n\u001b[1;32m     50\u001b[0m             \u001b[38;5;124mf\u001b[39m\u001b[38;5;124m'\u001b[39m\u001b[38;5;124mThe property \u001b[39m\u001b[38;5;124m\"\u001b[39m\u001b[38;5;132;01m{\u001b[39;00mname\u001b[38;5;132;01m}\u001b[39;00m\u001b[38;5;124m\"\u001b[39m\u001b[38;5;124m is not available.\u001b[39m\u001b[38;5;124m'\u001b[39m)\n\u001b[1;32m     51\u001b[0m     \u001b[38;5;28;01mreturn\u001b[39;00m \u001b[38;5;28;01mNone\u001b[39;00m\n\u001b[1;32m     53\u001b[0m result \u001b[38;5;241m=\u001b[39m \u001b[38;5;28mself\u001b[39m\u001b[38;5;241m.\u001b[39mresults[name]\n",
      "\u001b[0;31mPropertyNotImplementedError\u001b[0m: The property \"stress\" is not available."
     ]
    }
   ],
   "source": [
    "ds[0].get_potential_energy(), ds[0].get_forces(), ds[0].get_stress()\n"
   ]
  }
 ],
 "metadata": {
  "kernelspec": {
   "display_name": "graph-pes",
   "language": "python",
   "name": "python3"
  },
  "language_info": {
   "codemirror_mode": {
    "name": "ipython",
    "version": 3
   },
   "file_extension": ".py",
   "mimetype": "text/x-python",
   "name": "python",
   "nbconvert_exporter": "python",
   "pygments_lexer": "ipython3",
   "version": "3.8.15"
  }
 },
 "nbformat": 4,
 "nbformat_minor": 2
}
