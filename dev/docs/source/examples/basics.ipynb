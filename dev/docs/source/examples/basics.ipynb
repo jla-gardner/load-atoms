{
 "cells": [
  {
   "attachments": {},
   "cell_type": "markdown",
   "metadata": {},
   "source": [
    "# The Basics"
   ]
  },
  {
   "attachments": {},
   "cell_type": "markdown",
   "metadata": {},
   "source": [
    "### Dataset loading and creation"
   ]
  },
  {
   "attachments": {},
   "cell_type": "markdown",
   "metadata": {},
   "source": [
    "The primary use for LoadAtoms is to enable quick and simple access to a variety of chemical datasets. \n",
    "This is done using the *dataset()* function as shown below.\n",
    "\n",
    "The function will:\n",
    "\n",
    "- download the dataset if it not already present in the cache\n",
    "- store the dataset in the cache directory which is located in the user's home directory\n",
    "- print out any copyright and licensing information related to the dataset\n"
   ]
  },
  {
   "cell_type": "code",
   "execution_count": 1,
   "metadata": {},
   "outputs": [
    {
     "name": "stdout",
     "output_type": "stream",
     "text": [
      "This dataset is covered by the CC BY-NC-SA 4.0 license.\n",
      "Please cite this dataset if you use it in your work.\n",
      "For more information, visit:\n",
      "https://jla-gardner.github.io/load-atoms/datasets/C-GAP-17.html\n"
     ]
    }
   ],
   "source": [
    "from load_atoms import dataset\n",
    "\n",
    "# Load the dataset\n",
    "# Arguments can be a string, a list of atoms objects or a path to structure files\n",
    "gap17 = dataset(\"C-GAP-17\")"
   ]
  },
  {
   "attachments": {},
   "cell_type": "markdown",
   "metadata": {},
   "source": [
    "The \"`dataset`\" object contains all information about the data:\n",
    "\n",
    "- total number of structures\n",
    "- total number of atoms\n",
    "- species present (in %)\n",
    "- any additional properties stored within the data files; this can be per atom or per structure properties"
   ]
  },
  {
   "cell_type": "code",
   "execution_count": 2,
   "metadata": {},
   "outputs": [
    {
     "data": {
      "text/plain": [
       "C-GAP-17:\n",
       "    structures: 4,530\n",
       "    atoms: 284,965\n",
       "    species:\n",
       "        C: 100.00%\n",
       "    properties:\n",
       "        per atom: (force)\n",
       "        per structure: (energy, detailed_ct, config_type, split)"
      ]
     },
     "execution_count": 2,
     "metadata": {},
     "output_type": "execute_result"
    }
   ],
   "source": [
    "gap17"
   ]
  },
  {
   "attachments": {},
   "cell_type": "markdown",
   "metadata": {},
   "source": [
    "If the dataset you're looking for is not available via LoadAtoms, you can easily build your own or load in existing structure files from a path:"
   ]
  },
  {
   "cell_type": "code",
   "execution_count": 3,
   "metadata": {},
   "outputs": [
    {
     "data": {
      "text/plain": [
       "Dataset:\n",
       "    structures: 3\n",
       "    atoms: 12\n",
       "    species:\n",
       "        H: 75.00%\n",
       "        N: 8.33%\n",
       "        C: 8.33%\n",
       "        O: 8.33%\n",
       "    properties:\n",
       "        per atom: ()\n",
       "        per structure: ()"
      ]
     },
     "execution_count": 3,
     "metadata": {},
     "output_type": "execute_result"
    }
   ],
   "source": [
    "from ase import Atoms\n",
    "\n",
    "# list of structures \n",
    "structures = [\n",
    "    Atoms(\"H2O\"),\n",
    "    Atoms(\"NH3\"),\n",
    "    Atoms(\"CH4\"),\n",
    "]\n",
    "\n",
    "# create a dataset object from a list of structures\n",
    "small_molecules = dataset(structures)\n",
    "small_molecules"
   ]
  },
  {
   "cell_type": "code",
   "execution_count": 4,
   "metadata": {},
   "outputs": [
    {
     "data": {
      "text/plain": [
       "Dataset:\n",
       "    structures: 3\n",
       "    atoms: 12\n",
       "    species:\n",
       "        H: 75.00%\n",
       "        N: 8.33%\n",
       "        C: 8.33%\n",
       "        O: 8.33%\n",
       "    properties:\n",
       "        per atom: ()\n",
       "        per structure: ()"
      ]
     },
     "execution_count": 4,
     "metadata": {},
     "output_type": "execute_result"
    }
   ],
   "source": [
    "from ase.io import write\n",
    "\n",
    "# save a dataset to a file\n",
    "write(\"small_molecules.traj\", small_molecules)\n",
    "\n",
    "# create a dataset object from a file\n",
    "dataset(\"small_molecules.traj\")"
   ]
  },
  {
   "attachments": {},
   "cell_type": "markdown",
   "metadata": {},
   "source": [
    "### Dataset Manipulation"
   ]
  },
  {
   "attachments": {},
   "cell_type": "markdown",
   "metadata": {},
   "source": [
    "\"`Dataset`\" objects are just lists of `ase.Atoms` objects. This makes them very easy to manipulate."
   ]
  },
  {
   "cell_type": "code",
   "execution_count": 5,
   "metadata": {},
   "outputs": [
    {
     "data": {
      "text/plain": [
       "Atoms(symbols='C64', pbc=True, cell=[9.483921, 9.483921, 9.483921], force=..., calculator=SinglePointCalculator(...))"
      ]
     },
     "execution_count": 5,
     "metadata": {},
     "output_type": "execute_result"
    }
   ],
   "source": [
    "# access a specific structure by index\n",
    "structure = gap17[0]\n",
    "structure"
   ]
  },
  {
   "attachments": {},
   "cell_type": "markdown",
   "metadata": {},
   "source": [
    "Properties of structures can be accessed just as you would normally do in ASE"
   ]
  },
  {
   "cell_type": "code",
   "execution_count": 6,
   "metadata": {},
   "outputs": [
    {
     "data": {
      "text/plain": [
       "array([6, 6, 6, 6, 6, 6, 6, 6, 6, 6, 6, 6, 6, 6, 6, 6, 6, 6, 6, 6, 6, 6,\n",
       "       6, 6, 6, 6, 6, 6, 6, 6, 6, 6, 6, 6, 6, 6, 6, 6, 6, 6, 6, 6, 6, 6,\n",
       "       6, 6, 6, 6, 6, 6, 6, 6, 6, 6, 6, 6, 6, 6, 6, 6, 6, 6, 6, 6])"
      ]
     },
     "execution_count": 6,
     "metadata": {},
     "output_type": "execute_result"
    }
   ],
   "source": [
    "# get the atomic numbers of all atoms in the structure\n",
    "structure.arrays['numbers']"
   ]
  },
  {
   "attachments": {},
   "cell_type": "markdown",
   "metadata": {},
   "source": [
    "Similarly new dataset objects can be created from subsets of a larger dataset:"
   ]
  },
  {
   "cell_type": "code",
   "execution_count": 7,
   "metadata": {},
   "outputs": [
    {
     "data": {
      "text/plain": [
       "Dataset:\n",
       "    structures: 4\n",
       "    atoms: 256\n",
       "    species:\n",
       "        C: 100.00%\n",
       "    properties:\n",
       "        per atom: (force)\n",
       "        per structure: (energy, detailed_ct, config_type, split)"
      ]
     },
     "execution_count": 7,
     "metadata": {},
     "output_type": "execute_result"
    }
   ],
   "source": [
    "# access a range of structures by index\n",
    "# returns a new dataset object with only the selected structures\n",
    "gap17[:4]"
   ]
  },
  {
   "attachments": {},
   "cell_type": "markdown",
   "metadata": {},
   "source": [
    "LoadAtoms also contains some useful in-built functions for working with and manipulating datasets:"
   ]
  },
  {
   "attachments": {},
   "cell_type": "markdown",
   "metadata": {},
   "source": [
    "**Filter_by():** filters a dataset by a given property; returns a new dataset object with only the structures that match the given criteria"
   ]
  },
  {
   "cell_type": "code",
   "execution_count": 8,
   "metadata": {},
   "outputs": [
    {
     "data": {
      "text/plain": [
       "(3410, 1434)"
      ]
     },
     "execution_count": 8,
     "metadata": {},
     "output_type": "execute_result"
    }
   ],
   "source": [
    "from load_atoms import filter_by\n",
    "\n",
    "# only retain structures labelled as bulk amorphous\n",
    "bulk_amo = filter_by(gap17, config_type=\"bulk_amo\")\n",
    "\n",
    "# only retain structures with less than 64 atoms\n",
    "small = filter_by(gap17, lambda atoms: len(atoms) < 64)\n",
    "\n",
    "len(bulk_amo), len(small)"
   ]
  },
  {
   "cell_type": "code",
   "execution_count": 9,
   "metadata": {},
   "outputs": [
    {
     "data": {
      "text/plain": [
       "Dataset:\n",
       "    structures: 3,410\n",
       "    atoms: 224,665\n",
       "    species:\n",
       "        C: 100.00%\n",
       "    properties:\n",
       "        per atom: (force)\n",
       "        per structure: (energy, detailed_ct, config_type, split)"
      ]
     },
     "execution_count": 9,
     "metadata": {},
     "output_type": "execute_result"
    }
   ],
   "source": [
    "# new, filtered dataset object\n",
    "bulk_amo"
   ]
  },
  {
   "attachments": {},
   "cell_type": "markdown",
   "metadata": {},
   "source": [
    "**cross_validate_split():** splits the dataset into k folds; returns two new dataset objects which correspond to the train and test sets for a particular fold"
   ]
  },
  {
   "cell_type": "code",
   "execution_count": 10,
   "metadata": {},
   "outputs": [
    {
     "data": {
      "text/plain": [
       "(3624, 906)"
      ]
     },
     "execution_count": 10,
     "metadata": {},
     "output_type": "execute_result"
    }
   ],
   "source": [
    "from load_atoms import cross_validate_split\n",
    "\n",
    "# obtains the data from the first fold (fold=0) of a 5-fold cross-validation split\n",
    "train, test = cross_validate_split(gap17, fold=0, k=5, seed=42)\n",
    "len(train), len(test)"
   ]
  },
  {
   "cell_type": "code",
   "execution_count": 11,
   "metadata": {},
   "outputs": [
    {
     "data": {
      "text/plain": [
       "Dataset:\n",
       "    structures: 3,624\n",
       "    atoms: 226,698\n",
       "    species:\n",
       "        C: 100.00%\n",
       "    properties:\n",
       "        per atom: (force)\n",
       "        per structure: (energy, detailed_ct, config_type, split)"
      ]
     },
     "execution_count": 11,
     "metadata": {},
     "output_type": "execute_result"
    }
   ],
   "source": [
    "train"
   ]
  },
  {
   "cell_type": "code",
   "execution_count": 12,
   "metadata": {},
   "outputs": [
    {
     "data": {
      "text/plain": [
       "Dataset:\n",
       "    structures: 906\n",
       "    atoms: 58,267\n",
       "    species:\n",
       "        C: 100.00%\n",
       "    properties:\n",
       "        per atom: (force)\n",
       "        per structure: (energy, detailed_ct, config_type, split)"
      ]
     },
     "execution_count": 12,
     "metadata": {},
     "output_type": "execute_result"
    }
   ],
   "source": [
    "test"
   ]
  },
  {
   "attachments": {},
   "cell_type": "markdown",
   "metadata": {},
   "source": [
    "Instead of specifying a number of folds, you can instead obtain a test/train split based on a specified number of test structures:"
   ]
  },
  {
   "cell_type": "code",
   "execution_count": 13,
   "metadata": {},
   "outputs": [
    {
     "data": {
      "text/plain": [
       "(4430, 100)"
      ]
     },
     "execution_count": 13,
     "metadata": {},
     "output_type": "execute_result"
    }
   ],
   "source": [
    "train, test = cross_validate_split(gap17,fold=0, n_test=100, seed=42)\n",
    "len(train), len(test)"
   ]
  },
  {
   "attachments": {},
   "cell_type": "markdown",
   "metadata": {},
   "source": [
    "The full list of in-built functions can be found at ..."
   ]
  }
 ],
 "metadata": {
  "kernelspec": {
   "display_name": "Python 3.8.15 ('load-atoms')",
   "language": "python",
   "name": "python3"
  },
  "language_info": {
   "codemirror_mode": {
    "name": "ipython",
    "version": 3
   },
   "file_extension": ".py",
   "mimetype": "text/x-python",
   "name": "python",
   "nbconvert_exporter": "python",
   "pygments_lexer": "ipython3",
   "version": "3.8.16"
  },
  "orig_nbformat": 4,
  "vscode": {
   "interpreter": {
    "hash": "0a9537a851476336c227c6cfce3f76abcef14bf472842da009f8502382cfa5a6"
   }
  }
 },
 "nbformat": 4,
 "nbformat_minor": 2
}
