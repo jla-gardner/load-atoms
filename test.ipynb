{
 "cells": [
  {
   "cell_type": "code",
   "execution_count": 1,
   "metadata": {},
   "outputs": [
    {
     "name": "stdout",
     "output_type": "stream",
     "text": [
      "Complete training dataset for the C-GAP-17 model. For details, see the supplementary information here: https://www.repository.cam.ac.uk/handle/1810/262814\n",
      "\n",
      "This dataset is licensed under https://creativecommons.org/licenses/by-nc-sa/4.0/\n",
      "If you use this dataset, please cite the following:\n",
      "@article{Deringer-17,\n",
      "    title = {Machine learning based interatomic potential for amorphous carbon},\n",
      "    doi = {10.1103/PhysRevB.95.094203},\n",
      "    volume = {95},\n",
      "    number = {9},\n",
      "    urldate = {2021-07-15},\n",
      "    journal = {Physical Review B},\n",
      "    author = {Deringer, Volker L. and Cs{\\'a}nyi, G{\\'a}bor},    \n",
      "    year = {2017},\n",
      "    pages = {094203},\n",
      "}\n"
     ]
    },
    {
     "data": {
      "text/plain": [
       "C-GAP-17-train:\n",
       "    counts:\n",
       "        structures: 4,080\n",
       "        atoms: 256,628\n",
       "    species:\n",
       "        C: 100.00%\n",
       "    properties:\n",
       "        per atom: (force, frac_pos)\n",
       "        per structure: (nextra_bands, task, fix_occupancy, energy, detailed_ct, calculate_stress,\n",
       "            opt_strategy, config_type, kpoints_mp_grid, cut_off_energy, xc_functional,\n",
       "            pdos_calculate_weights, popn_calculate, elec_energy_tol, write_checkpoint,\n",
       "            mix_history_length, castep_run_time, max_scf_cycles, castep_file_name,\n",
       "            cutoff, nneightol, mixing_scheme, finite_basis_corr, smearing_width, mix_charge_amp,\n",
       "            spin_polarized)"
      ]
     },
     "execution_count": 1,
     "metadata": {},
     "output_type": "execute_result"
    }
   ],
   "source": [
    "import load_atoms\n",
    "from load_atoms import dataset \n",
    "\n",
    "dataset(\"C-GAP-17-train\", root=\"./datasets\")"
   ]
  },
  {
   "cell_type": "code",
   "execution_count": null,
   "metadata": {},
   "outputs": [],
   "source": []
  }
 ],
 "metadata": {
  "kernelspec": {
   "display_name": "load-atoms",
   "language": "python",
   "name": "python3"
  },
  "language_info": {
   "codemirror_mode": {
    "name": "ipython",
    "version": 3
   },
   "file_extension": ".py",
   "mimetype": "text/x-python",
   "name": "python",
   "nbconvert_exporter": "python",
   "pygments_lexer": "ipython3",
   "version": "3.8.16"
  },
  "orig_nbformat": 4,
  "vscode": {
   "interpreter": {
    "hash": "7e5de6de643069e6fff35132c6f826d7f9d62b4fa0c38e49670ae541716d0ef2"
   }
  }
 },
 "nbformat": 4,
 "nbformat_minor": 2
}
