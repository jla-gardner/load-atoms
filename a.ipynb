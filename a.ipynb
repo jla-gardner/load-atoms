{
 "cells": [
  {
   "cell_type": "code",
   "execution_count": 4,
   "metadata": {},
   "outputs": [
    {
     "data": {
      "text/plain": [
       "Dataset:\n",
       "    structures: 6,088\n",
       "    atoms: 400,275\n",
       "    species:\n",
       "        C: 100.00%\n",
       "    properties:\n",
       "        per atom: (forces)\n",
       "        per structure: (config_type, energy, free_energy, stress, virial)"
      ]
     },
     "execution_count": 4,
     "metadata": {},
     "output_type": "execute_result"
    }
   ],
   "source": [
    "from load_atoms.database.processing.cgap20u import Importer\n",
    "from pathlib import Path\n",
    "\n",
    "Importer().get_dataset(Path(\".\"))"
   ]
  }
 ],
 "metadata": {
  "kernelspec": {
   "display_name": "load-atoms",
   "language": "python",
   "name": "python3"
  },
  "language_info": {
   "codemirror_mode": {
    "name": "ipython",
    "version": 3
   },
   "file_extension": ".py",
   "mimetype": "text/x-python",
   "name": "python",
   "nbconvert_exporter": "python",
   "pygments_lexer": "ipython3",
   "version": "3.8.15"
  }
 },
 "nbformat": 4,
 "nbformat_minor": 2
}
