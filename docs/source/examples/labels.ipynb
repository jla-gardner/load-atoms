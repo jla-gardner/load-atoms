{
 "cells": [
  {
   "attachments": {},
   "cell_type": "markdown",
   "metadata": {},
   "source": [
    "# Labels"
   ]
  },
  {
   "cell_type": "code",
   "execution_count": 1,
   "metadata": {},
   "outputs": [
    {
     "name": "stdout",
     "output_type": "stream",
     "text": [
      "Downloading C-GAP-20.extxyz\n",
      "100.0% | ██████████████████████████████████████████████████\n",
      "This dataset is covered by the CC-BY-4.0 license.\n",
      "Please cite this dataset if you use it in your work.\n",
      "For more information, visit:\n",
      "https://jla-gardner.github.io/load-atoms/datasets/C-GAP-20.html\n"
     ]
    },
    {
     "data": {
      "text/plain": [
       "C-GAP-20:\n",
       "    structures: 6,088\n",
       "    atoms: 400,275\n",
       "    species:\n",
       "        C: 100.00%\n",
       "    properties:\n",
       "        per atom: (force_U, force)\n",
       "        per structure: (nneightol, energy, config_type, energy_U, cutoff)"
      ]
     },
     "execution_count": 1,
     "metadata": {},
     "output_type": "execute_result"
    }
   ],
   "source": [
    "# some datasets have labels\n",
    "from load_atoms import dataset\n",
    "\n",
    "gap20 = dataset(\"C-GAP-20\")\n",
    "gap20"
   ]
  },
  {
   "cell_type": "code",
   "execution_count": 3,
   "metadata": {},
   "outputs": [],
   "source": [
    "original_labels = gap20[0].arrays[\"force\"]\n",
    "updated_labels = gap20[0].arrays[\"force_U\"]"
   ]
  },
  {
   "cell_type": "code",
   "execution_count": 4,
   "metadata": {},
   "outputs": [
    {
     "data": {
      "text/plain": [
       "0.0011572003128107718"
      ]
     },
     "execution_count": 4,
     "metadata": {},
     "output_type": "execute_result"
    }
   ],
   "source": [
    "import numpy as np\n",
    "\n",
    "\n",
    "np.linalg.norm(original_labels - updated_labels) / np.linalg.norm(original_labels)"
   ]
  }
 ],
 "metadata": {
  "kernelspec": {
   "display_name": "load-atoms",
   "language": "python",
   "name": "python3"
  },
  "language_info": {
   "codemirror_mode": {
    "name": "ipython",
    "version": 3
   },
   "file_extension": ".py",
   "mimetype": "text/x-python",
   "name": "python",
   "nbconvert_exporter": "python",
   "pygments_lexer": "ipython3",
   "version": "3.8.15"
  },
  "orig_nbformat": 4
 },
 "nbformat": 4,
 "nbformat_minor": 2
}
