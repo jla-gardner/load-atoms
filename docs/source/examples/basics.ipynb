{
 "cells": [
  {
   "attachments": {},
   "cell_type": "markdown",
   "metadata": {},
   "source": [
    "# The Basics"
   ]
  },
  {
   "cell_type": "code",
   "execution_count": 1,
   "metadata": {},
   "outputs": [
    {
     "name": "stdout",
     "output_type": "stream",
     "text": [
      "This dataset is covered by the CC BY-NC-SA 4.0 license.\n",
      "Please cite this dataset if you use it in your work.\n",
      "For more information, visit:\n",
      "https://jla-gardner.github.io/load-atoms/datasets/C-GAP-17.html\n"
     ]
    }
   ],
   "source": [
    "from load_atoms import dataset\n",
    "\n",
    "gap17 = dataset(\"C-GAP-17\")"
   ]
  },
  {
   "cell_type": "code",
   "execution_count": 2,
   "metadata": {},
   "outputs": [
    {
     "data": {
      "text/plain": [
       "C-GAP-17:\n",
       "    structures: 4,530\n",
       "    atoms: 284,965\n",
       "    species:\n",
       "        C: 100.00%\n",
       "    properties:\n",
       "        per atom: (force)\n",
       "        per structure: (detailed_ct, energy, config_type, split)"
      ]
     },
     "execution_count": 2,
     "metadata": {},
     "output_type": "execute_result"
    }
   ],
   "source": [
    "gap17"
   ]
  },
  {
   "cell_type": "markdown",
   "metadata": {},
   "source": [
    "\"`Datasets`\" are just lists of `ase.Atoms` objects."
   ]
  },
  {
   "cell_type": "code",
   "execution_count": 3,
   "metadata": {},
   "outputs": [
    {
     "data": {
      "text/plain": [
       "Atoms(symbols='C64', pbc=True, cell=[9.483921, 9.483921, 9.483921], force=..., calculator=SinglePointCalculator(...))"
      ]
     },
     "execution_count": 3,
     "metadata": {},
     "output_type": "execute_result"
    }
   ],
   "source": [
    "gap17[0]"
   ]
  },
  {
   "cell_type": "code",
   "execution_count": 8,
   "metadata": {},
   "outputs": [
    {
     "data": {
      "text/plain": [
       "Dataset:\n",
       "    structures: 4\n",
       "    atoms: 256\n",
       "    species:\n",
       "        C: 100.00%\n",
       "    properties:\n",
       "        per atom: (force)\n",
       "        per structure: (detailed_ct, energy, config_type, split)"
      ]
     },
     "execution_count": 8,
     "metadata": {},
     "output_type": "execute_result"
    }
   ],
   "source": [
    "gap17[:4]"
   ]
  },
  {
   "cell_type": "markdown",
   "metadata": {},
   "source": [
    "`load_atoms` also exposes some useful functions for working with datasets:"
   ]
  },
  {
   "cell_type": "code",
   "execution_count": 4,
   "metadata": {},
   "outputs": [
    {
     "data": {
      "text/plain": [
       "(3410, 1434)"
      ]
     },
     "execution_count": 4,
     "metadata": {},
     "output_type": "execute_result"
    }
   ],
   "source": [
    "from load_atoms import filter_by\n",
    "\n",
    "bulk_amo = filter_by(gap17, config_type=\"bulk_amo\")\n",
    "small = filter_by(gap17, lambda atoms: len(atoms) < 64)\n",
    "len(bulk_amo), len(small)"
   ]
  },
  {
   "cell_type": "code",
   "execution_count": 5,
   "metadata": {},
   "outputs": [
    {
     "data": {
      "text/plain": [
       "(3624, 906)"
      ]
     },
     "execution_count": 5,
     "metadata": {},
     "output_type": "execute_result"
    }
   ],
   "source": [
    "from load_atoms import cross_validate_split\n",
    "\n",
    "train, test = cross_validate_split(gap17, fold=0, folds=5, seed=42)\n",
    "len(train), len(test)"
   ]
  },
  {
   "cell_type": "code",
   "execution_count": 6,
   "metadata": {},
   "outputs": [
    {
     "data": {
      "text/plain": [
       "Dataset:\n",
       "    structures: 3\n",
       "    atoms: 12\n",
       "    species:\n",
       "        H: 75.00%\n",
       "        C: 8.33%\n",
       "        O: 8.33%\n",
       "        N: 8.33%\n",
       "    properties:\n",
       "        per atom: ()\n",
       "        per structure: ()"
      ]
     },
     "execution_count": 6,
     "metadata": {},
     "output_type": "execute_result"
    }
   ],
   "source": [
    "# you can also make your own datasets:\n",
    "from ase import Atoms\n",
    "\n",
    "structures = [\n",
    "    Atoms(\"H2O\"),\n",
    "    Atoms(\"NH3\"),\n",
    "    Atoms(\"CH4\"),\n",
    "]\n",
    "\n",
    "small_molecules = dataset(structures)\n",
    "small_molecules"
   ]
  },
  {
   "cell_type": "code",
   "execution_count": 7,
   "metadata": {},
   "outputs": [
    {
     "data": {
      "text/plain": [
       "Dataset:\n",
       "    structures: 3\n",
       "    atoms: 12\n",
       "    species:\n",
       "        H: 75.00%\n",
       "        C: 8.33%\n",
       "        O: 8.33%\n",
       "        N: 8.33%\n",
       "    properties:\n",
       "        per atom: ()\n",
       "        per structure: ()"
      ]
     },
     "execution_count": 7,
     "metadata": {},
     "output_type": "execute_result"
    }
   ],
   "source": [
    "# or load them from a path\n",
    "from ase.io import write\n",
    "\n",
    "write(\"small_molecules.traj\", small_molecules)\n",
    "\n",
    "dataset(\"small_molecules.traj\")"
   ]
  }
 ],
 "metadata": {
  "kernelspec": {
   "display_name": "Python 3.8.15 ('load-atoms')",
   "language": "python",
   "name": "python3"
  },
  "language_info": {
   "codemirror_mode": {
    "name": "ipython",
    "version": 3
   },
   "file_extension": ".py",
   "mimetype": "text/x-python",
   "name": "python",
   "nbconvert_exporter": "python",
   "pygments_lexer": "ipython3",
   "version": "3.8.15"
  },
  "orig_nbformat": 4,
  "vscode": {
   "interpreter": {
    "hash": "0a9537a851476336c227c6cfce3f76abcef14bf472842da009f8502382cfa5a6"
   }
  }
 },
 "nbformat": 4,
 "nbformat_minor": 2
}
