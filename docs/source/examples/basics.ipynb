{
 "cells": [
  {
   "attachments": {},
   "cell_type": "markdown",
   "metadata": {},
   "source": [
    "# The Basics"
   ]
  },
  {
   "attachments": {},
   "cell_type": "markdown",
   "metadata": {},
   "source": [
    "### Dataset loading and creation"
   ]
  },
  {
   "attachments": {},
   "cell_type": "markdown",
   "metadata": {},
   "source": [
    "The primary use for LoadAtoms is to enable quick and simple access to a variety of chemical datasets. \n",
    "This is done using the *dataset()* function as shown below.\n",
    "\n",
    "The function will:\n",
    "\n",
    "- download the dataset if it not already present in the cache\n",
    "- store the dataset in the cache directory which is located in the user's home directory\n",
    "- print out any copyright and licensing information related to the dataset\n"
   ]
  },
  {
   "cell_type": "code",
   "execution_count": 1,
   "metadata": {},
   "outputs": [
    {
     "name": "stdout",
     "output_type": "stream",
     "text": [
      "Downloading C-GAP-17.extxyz\n",
      "100.0% | ██████████████████████████████████████████████████\n",
      "This dataset is covered by the CC BY-NC-SA 4.0 license.\n",
      "Please cite this dataset if you use it in your work.\n",
      "For more information, visit:\n",
      "https://jla-gardner.github.io/load-atoms/datasets/C-GAP-17.html\n"
     ]
    }
   ],
   "source": [
    "from load_atoms import dataset\n",
    "\n",
    "# Load the dataset\n",
    "# Arguments can be a string, a list of atoms objects or a path to structure files\n",
    "gap17 = dataset(\"C-GAP-17\")"
   ]
  },
  {
   "attachments": {},
   "cell_type": "markdown",
   "metadata": {},
   "source": [
    "The \"`dataset`\" object contains all information about the data:\n",
    "\n",
    "- total number of structures\n",
    "- total number of atoms\n",
    "- species present (in %)\n",
    "- any additional properties stored within the data files; this can be per atom or per structure properties"
   ]
  },
  {
   "cell_type": "code",
   "execution_count": 2,
   "metadata": {},
   "outputs": [
    {
     "data": {
      "text/plain": [
       "C-GAP-17:\n",
       "    structures: 4,530\n",
       "    atoms: 284,965\n",
       "    species:\n",
       "        C: 100.00%\n",
       "    properties:\n",
       "        per atom: (force)\n",
       "        per structure: (detailed_ct, config_type, split, energy)"
      ]
     },
     "execution_count": 2,
     "metadata": {},
     "output_type": "execute_result"
    }
   ],
   "source": [
    "gap17"
   ]
  },
  {
   "attachments": {},
   "cell_type": "markdown",
   "metadata": {},
   "source": [
    "If the dataset you're looking for is not available via LoadAtoms, you can easily build your own or load in existing structure files from a path:"
   ]
  },
  {
   "cell_type": "code",
   "execution_count": 5,
   "metadata": {},
   "outputs": [
    {
     "data": {
      "text/plain": [
       "Dataset:\n",
       "    structures: 3\n",
       "    atoms: 12\n",
       "    species:\n",
       "        H: 75.00%\n",
       "        C: 8.33%\n",
       "        O: 8.33%\n",
       "        N: 8.33%\n",
       "    properties:\n",
       "        per atom: ()\n",
       "        per structure: ()"
      ]
     },
     "execution_count": 5,
     "metadata": {},
     "output_type": "execute_result"
    }
   ],
   "source": [
    "from ase import Atoms\n",
    "\n",
    "# list of structures \n",
    "structures = [\n",
    "    Atoms(\"H2O\"),\n",
    "    Atoms(\"NH3\"),\n",
    "    Atoms(\"CH4\"),\n",
    "]\n",
    "\n",
    "# create a dataset object from a list of structures\n",
    "small_molecules = dataset(structures)\n",
    "small_molecules"
   ]
  },
  {
   "cell_type": "code",
   "execution_count": 6,
   "metadata": {},
   "outputs": [
    {
     "data": {
      "text/plain": [
       "Dataset:\n",
       "    structures: 3\n",
       "    atoms: 12\n",
       "    species:\n",
       "        H: 75.00%\n",
       "        C: 8.33%\n",
       "        O: 8.33%\n",
       "        N: 8.33%\n",
       "    properties:\n",
       "        per atom: ()\n",
       "        per structure: ()"
      ]
     },
     "execution_count": 6,
     "metadata": {},
     "output_type": "execute_result"
    }
   ],
   "source": [
    "from ase.io import write\n",
    "\n",
    "# save a dataset to a file\n",
    "write(\"small_molecules.traj\", small_molecules)\n",
    "\n",
    "# create a dataset object from a file\n",
    "dataset(\"small_molecules.traj\")"
   ]
  },
  {
   "attachments": {},
   "cell_type": "markdown",
   "metadata": {},
   "source": [
    "### Dataset Manipulation"
   ]
  },
  {
   "attachments": {},
   "cell_type": "markdown",
   "metadata": {},
   "source": [
    "\"`Dataset`\" objects are just lists of `ase.Atoms` objects. This makes them very easy to manipulate."
   ]
  },
  {
   "cell_type": "code",
   "execution_count": 11,
   "metadata": {},
   "outputs": [
    {
     "data": {
      "text/plain": [
       "Atoms(symbols='C64', pbc=True, cell=[9.483921, 9.483921, 9.483921], force=..., calculator=SinglePointCalculator(...))"
      ]
     },
     "execution_count": 11,
     "metadata": {},
     "output_type": "execute_result"
    }
   ],
   "source": [
    "# access a specific structure by index\n",
    "structure = gap17[0]\n",
    "structure"
   ]
  },
  {
   "attachments": {},
   "cell_type": "markdown",
   "metadata": {},
   "source": [
    "Properties of structures can be accessed just as you would normally do in ASE"
   ]
  },
  {
   "cell_type": "code",
   "execution_count": 14,
   "metadata": {},
   "outputs": [
    {
     "data": {
      "text/plain": [
       "array([6, 6, 6, 6, 6, 6, 6, 6, 6, 6, 6, 6, 6, 6, 6, 6, 6, 6, 6, 6, 6, 6,\n",
       "       6, 6, 6, 6, 6, 6, 6, 6, 6, 6, 6, 6, 6, 6, 6, 6, 6, 6, 6, 6, 6, 6,\n",
       "       6, 6, 6, 6, 6, 6, 6, 6, 6, 6, 6, 6, 6, 6, 6, 6, 6, 6, 6, 6])"
      ]
     },
     "execution_count": 14,
     "metadata": {},
     "output_type": "execute_result"
    }
   ],
   "source": [
    "# get the atomic numbers of all atoms in the structure\n",
    "structure.arrays['numbers']"
   ]
  },
  {
   "attachments": {},
   "cell_type": "markdown",
   "metadata": {},
   "source": [
    "Similarly new dataset objects can be created from subsets of a larger dataset:"
   ]
  },
  {
   "cell_type": "code",
   "execution_count": 8,
   "metadata": {},
   "outputs": [
    {
     "data": {
      "text/plain": [
       "Dataset:\n",
       "    structures: 4\n",
       "    atoms: 256\n",
       "    species:\n",
       "        C: 100.00%\n",
       "    properties:\n",
       "        per atom: (force)\n",
       "        per structure: (detailed_ct, config_type, split, energy)"
      ]
     },
     "execution_count": 8,
     "metadata": {},
     "output_type": "execute_result"
    }
   ],
   "source": [
    "# access a range of structures by index\n",
    "# returns a new dataset object with only the selected structures\n",
    "gap17[:4]"
   ]
  },
  {
   "attachments": {},
   "cell_type": "markdown",
   "metadata": {},
   "source": [
    "LoadAtoms also contains some useful in-built functions for working with and manipulating datasets:"
   ]
  },
  {
   "attachments": {},
   "cell_type": "markdown",
   "metadata": {},
   "source": [
    "**Filter_by():** filters a dataset by a given property; returns a new dataset object with only the structures that match the given criteria"
   ]
  },
  {
   "cell_type": "code",
   "execution_count": 20,
   "metadata": {},
   "outputs": [
    {
     "data": {
      "text/plain": [
       "(3410, 1434)"
      ]
     },
     "execution_count": 20,
     "metadata": {},
     "output_type": "execute_result"
    }
   ],
   "source": [
    "from load_atoms import filter_by\n",
    "\n",
    "# only retain structures labelled as bulk amorphous\n",
    "bulk_amo = filter_by(gap17, config_type=\"bulk_amo\")\n",
    "\n",
    "# only retain structures with less than 64 atoms\n",
    "small = filter_by(gap17, lambda atoms: len(atoms) < 64)\n",
    "\n",
    "len(bulk_amo), len(small)"
   ]
  },
  {
   "cell_type": "code",
   "execution_count": 21,
   "metadata": {},
   "outputs": [
    {
     "data": {
      "text/plain": [
       "Dataset:\n",
       "    structures: 3,410\n",
       "    atoms: 224,665\n",
       "    species:\n",
       "        C: 100.00%\n",
       "    properties:\n",
       "        per atom: (force)\n",
       "        per structure: (detailed_ct, config_type, split, energy)"
      ]
     },
     "execution_count": 21,
     "metadata": {},
     "output_type": "execute_result"
    }
   ],
   "source": [
    "# new, filtered dataset object\n",
    "bulk_amo"
   ]
  },
  {
   "attachments": {},
   "cell_type": "markdown",
   "metadata": {},
   "source": [
    "**cross_validate_split():** splits the dataset into k folds; returns ???"
   ]
  },
  {
   "cell_type": "code",
   "execution_count": 38,
   "metadata": {},
   "outputs": [
    {
     "data": {
      "text/plain": [
       "(3624, 906)"
      ]
     },
     "execution_count": 38,
     "metadata": {},
     "output_type": "execute_result"
    }
   ],
   "source": [
    "from load_atoms import cross_validate_split\n",
    "\n",
    "# obtains the first fold of a 5-fold cross-validation split\n",
    "train, test = cross_validate_split(gap17, fold=0, folds=5, seed=42)\n",
    "len(train), len(test)"
   ]
  },
  {
   "cell_type": "code",
   "execution_count": 39,
   "metadata": {},
   "outputs": [
    {
     "ename": "TypeError",
     "evalue": "object of type 'Atom' has no len()",
     "output_type": "error",
     "traceback": [
      "\u001b[0;31m---------------------------------------------------------------------------\u001b[0m",
      "\u001b[0;31mTypeError\u001b[0m                                 Traceback (most recent call last)",
      "File \u001b[0;32m~/miniconda3/envs/load-atoms/lib/python3.8/site-packages/IPython/core/formatters.py:706\u001b[0m, in \u001b[0;36mPlainTextFormatter.__call__\u001b[0;34m(self, obj)\u001b[0m\n\u001b[1;32m    699\u001b[0m stream \u001b[39m=\u001b[39m StringIO()\n\u001b[1;32m    700\u001b[0m printer \u001b[39m=\u001b[39m pretty\u001b[39m.\u001b[39mRepresentationPrinter(stream, \u001b[39mself\u001b[39m\u001b[39m.\u001b[39mverbose,\n\u001b[1;32m    701\u001b[0m     \u001b[39mself\u001b[39m\u001b[39m.\u001b[39mmax_width, \u001b[39mself\u001b[39m\u001b[39m.\u001b[39mnewline,\n\u001b[1;32m    702\u001b[0m     max_seq_length\u001b[39m=\u001b[39m\u001b[39mself\u001b[39m\u001b[39m.\u001b[39mmax_seq_length,\n\u001b[1;32m    703\u001b[0m     singleton_pprinters\u001b[39m=\u001b[39m\u001b[39mself\u001b[39m\u001b[39m.\u001b[39msingleton_printers,\n\u001b[1;32m    704\u001b[0m     type_pprinters\u001b[39m=\u001b[39m\u001b[39mself\u001b[39m\u001b[39m.\u001b[39mtype_printers,\n\u001b[1;32m    705\u001b[0m     deferred_pprinters\u001b[39m=\u001b[39m\u001b[39mself\u001b[39m\u001b[39m.\u001b[39mdeferred_printers)\n\u001b[0;32m--> 706\u001b[0m printer\u001b[39m.\u001b[39;49mpretty(obj)\n\u001b[1;32m    707\u001b[0m printer\u001b[39m.\u001b[39mflush()\n\u001b[1;32m    708\u001b[0m \u001b[39mreturn\u001b[39;00m stream\u001b[39m.\u001b[39mgetvalue()\n",
      "File \u001b[0;32m~/miniconda3/envs/load-atoms/lib/python3.8/site-packages/IPython/lib/pretty.py:393\u001b[0m, in \u001b[0;36mRepresentationPrinter.pretty\u001b[0;34m(self, obj)\u001b[0m\n\u001b[1;32m    390\u001b[0m \u001b[39mfor\u001b[39;00m \u001b[39mcls\u001b[39m \u001b[39min\u001b[39;00m _get_mro(obj_class):\n\u001b[1;32m    391\u001b[0m     \u001b[39mif\u001b[39;00m \u001b[39mcls\u001b[39m \u001b[39min\u001b[39;00m \u001b[39mself\u001b[39m\u001b[39m.\u001b[39mtype_pprinters:\n\u001b[1;32m    392\u001b[0m         \u001b[39m# printer registered in self.type_pprinters\u001b[39;00m\n\u001b[0;32m--> 393\u001b[0m         \u001b[39mreturn\u001b[39;00m \u001b[39mself\u001b[39;49m\u001b[39m.\u001b[39;49mtype_pprinters[\u001b[39mcls\u001b[39;49m](obj, \u001b[39mself\u001b[39;49m, cycle)\n\u001b[1;32m    394\u001b[0m     \u001b[39melse\u001b[39;00m:\n\u001b[1;32m    395\u001b[0m         \u001b[39m# deferred printer\u001b[39;00m\n\u001b[1;32m    396\u001b[0m         printer \u001b[39m=\u001b[39m \u001b[39mself\u001b[39m\u001b[39m.\u001b[39m_in_deferred_types(\u001b[39mcls\u001b[39m)\n",
      "File \u001b[0;32m~/miniconda3/envs/load-atoms/lib/python3.8/site-packages/IPython/lib/pretty.py:640\u001b[0m, in \u001b[0;36m_seq_pprinter_factory.<locals>.inner\u001b[0;34m(obj, p, cycle)\u001b[0m\n\u001b[1;32m    638\u001b[0m         p\u001b[39m.\u001b[39mtext(\u001b[39m'\u001b[39m\u001b[39m,\u001b[39m\u001b[39m'\u001b[39m)\n\u001b[1;32m    639\u001b[0m         p\u001b[39m.\u001b[39mbreakable()\n\u001b[0;32m--> 640\u001b[0m     p\u001b[39m.\u001b[39;49mpretty(x)\n\u001b[1;32m    641\u001b[0m \u001b[39mif\u001b[39;00m \u001b[39mlen\u001b[39m(obj) \u001b[39m==\u001b[39m \u001b[39m1\u001b[39m \u001b[39mand\u001b[39;00m \u001b[39misinstance\u001b[39m(obj, \u001b[39mtuple\u001b[39m):\n\u001b[1;32m    642\u001b[0m     \u001b[39m# Special case for 1-item tuples.\u001b[39;00m\n\u001b[1;32m    643\u001b[0m     p\u001b[39m.\u001b[39mtext(\u001b[39m'\u001b[39m\u001b[39m,\u001b[39m\u001b[39m'\u001b[39m)\n",
      "File \u001b[0;32m~/miniconda3/envs/load-atoms/lib/python3.8/site-packages/IPython/lib/pretty.py:410\u001b[0m, in \u001b[0;36mRepresentationPrinter.pretty\u001b[0;34m(self, obj)\u001b[0m\n\u001b[1;32m    407\u001b[0m                         \u001b[39mreturn\u001b[39;00m meth(obj, \u001b[39mself\u001b[39m, cycle)\n\u001b[1;32m    408\u001b[0m                 \u001b[39mif\u001b[39;00m \u001b[39mcls\u001b[39m \u001b[39mis\u001b[39;00m \u001b[39mnot\u001b[39;00m \u001b[39mobject\u001b[39m \\\n\u001b[1;32m    409\u001b[0m                         \u001b[39mand\u001b[39;00m callable(\u001b[39mcls\u001b[39m\u001b[39m.\u001b[39m\u001b[39m__dict__\u001b[39m\u001b[39m.\u001b[39mget(\u001b[39m'\u001b[39m\u001b[39m__repr__\u001b[39m\u001b[39m'\u001b[39m)):\n\u001b[0;32m--> 410\u001b[0m                     \u001b[39mreturn\u001b[39;00m _repr_pprint(obj, \u001b[39mself\u001b[39;49m, cycle)\n\u001b[1;32m    412\u001b[0m     \u001b[39mreturn\u001b[39;00m _default_pprint(obj, \u001b[39mself\u001b[39m, cycle)\n\u001b[1;32m    413\u001b[0m \u001b[39mfinally\u001b[39;00m:\n",
      "File \u001b[0;32m~/miniconda3/envs/load-atoms/lib/python3.8/site-packages/IPython/lib/pretty.py:778\u001b[0m, in \u001b[0;36m_repr_pprint\u001b[0;34m(obj, p, cycle)\u001b[0m\n\u001b[1;32m    776\u001b[0m \u001b[39m\u001b[39m\u001b[39m\"\"\"A pprint that just redirects to the normal repr function.\"\"\"\u001b[39;00m\n\u001b[1;32m    777\u001b[0m \u001b[39m# Find newlines and replace them with p.break_()\u001b[39;00m\n\u001b[0;32m--> 778\u001b[0m output \u001b[39m=\u001b[39m \u001b[39mrepr\u001b[39;49m(obj)\n\u001b[1;32m    779\u001b[0m lines \u001b[39m=\u001b[39m output\u001b[39m.\u001b[39msplitlines()\n\u001b[1;32m    780\u001b[0m \u001b[39mwith\u001b[39;00m p\u001b[39m.\u001b[39mgroup():\n",
      "File \u001b[0;32m~/Desktop/load-atoms/src/load_atoms/dataset.py:35\u001b[0m, in \u001b[0;36mDataset.__repr__\u001b[0;34m(self)\u001b[0m\n\u001b[1;32m     34\u001b[0m \u001b[39mdef\u001b[39;00m \u001b[39m__repr__\u001b[39m(\u001b[39mself\u001b[39m):\n\u001b[0;32m---> 35\u001b[0m     \u001b[39mreturn\u001b[39;00m summarise_dataset(\u001b[39mself\u001b[39;49m\u001b[39m.\u001b[39;49mstructures, \u001b[39mself\u001b[39;49m\u001b[39m.\u001b[39;49m_description)\n",
      "File \u001b[0;32m~/Desktop/load-atoms/src/load_atoms/dataset.py:85\u001b[0m, in \u001b[0;36msummarise_dataset\u001b[0;34m(structures, description)\u001b[0m\n\u001b[1;32m     83\u001b[0m name \u001b[39m=\u001b[39m description\u001b[39m.\u001b[39mname \u001b[39mif\u001b[39;00m description \u001b[39mis\u001b[39;00m \u001b[39mnot\u001b[39;00m \u001b[39mNone\u001b[39;00m \u001b[39melse\u001b[39;00m \u001b[39m\"\u001b[39m\u001b[39mDataset\u001b[39m\u001b[39m\"\u001b[39m\n\u001b[1;32m     84\u001b[0m N \u001b[39m=\u001b[39m \u001b[39mlen\u001b[39m(structures)\n\u001b[0;32m---> 85\u001b[0m number_atoms \u001b[39m=\u001b[39m \u001b[39msum\u001b[39m([\u001b[39mlen\u001b[39m(structure) \u001b[39mfor\u001b[39;00m structure \u001b[39min\u001b[39;00m structures])\n\u001b[1;32m     87\u001b[0m per_atom_properties \u001b[39m=\u001b[39m intersection(\n\u001b[1;32m     88\u001b[0m     structure\u001b[39m.\u001b[39marrays\u001b[39m.\u001b[39mkeys() \u001b[39mfor\u001b[39;00m structure \u001b[39min\u001b[39;00m structures\n\u001b[1;32m     89\u001b[0m )\n\u001b[1;32m     90\u001b[0m per_atom_properties \u001b[39m-\u001b[39m\u001b[39m=\u001b[39m {\u001b[39m\"\u001b[39m\u001b[39mnumbers\u001b[39m\u001b[39m\"\u001b[39m, \u001b[39m\"\u001b[39m\u001b[39mpositions\u001b[39m\u001b[39m\"\u001b[39m}\n",
      "File \u001b[0;32m~/Desktop/load-atoms/src/load_atoms/dataset.py:85\u001b[0m, in \u001b[0;36m<listcomp>\u001b[0;34m(.0)\u001b[0m\n\u001b[1;32m     83\u001b[0m name \u001b[39m=\u001b[39m description\u001b[39m.\u001b[39mname \u001b[39mif\u001b[39;00m description \u001b[39mis\u001b[39;00m \u001b[39mnot\u001b[39;00m \u001b[39mNone\u001b[39;00m \u001b[39melse\u001b[39;00m \u001b[39m\"\u001b[39m\u001b[39mDataset\u001b[39m\u001b[39m\"\u001b[39m\n\u001b[1;32m     84\u001b[0m N \u001b[39m=\u001b[39m \u001b[39mlen\u001b[39m(structures)\n\u001b[0;32m---> 85\u001b[0m number_atoms \u001b[39m=\u001b[39m \u001b[39msum\u001b[39m([\u001b[39mlen\u001b[39;49m(structure) \u001b[39mfor\u001b[39;00m structure \u001b[39min\u001b[39;00m structures])\n\u001b[1;32m     87\u001b[0m per_atom_properties \u001b[39m=\u001b[39m intersection(\n\u001b[1;32m     88\u001b[0m     structure\u001b[39m.\u001b[39marrays\u001b[39m.\u001b[39mkeys() \u001b[39mfor\u001b[39;00m structure \u001b[39min\u001b[39;00m structures\n\u001b[1;32m     89\u001b[0m )\n\u001b[1;32m     90\u001b[0m per_atom_properties \u001b[39m-\u001b[39m\u001b[39m=\u001b[39m {\u001b[39m\"\u001b[39m\u001b[39mnumbers\u001b[39m\u001b[39m\"\u001b[39m, \u001b[39m\"\u001b[39m\u001b[39mpositions\u001b[39m\u001b[39m\"\u001b[39m}\n",
      "\u001b[0;31mTypeError\u001b[0m: object of type 'Atom' has no len()"
     ]
    }
   ],
   "source": [
    "train"
   ]
  },
  {
   "cell_type": "code",
   "execution_count": 40,
   "metadata": {},
   "outputs": [
    {
     "ename": "TypeError",
     "evalue": "object of type 'Atom' has no len()",
     "output_type": "error",
     "traceback": [
      "\u001b[0;31m---------------------------------------------------------------------------\u001b[0m",
      "\u001b[0;31mTypeError\u001b[0m                                 Traceback (most recent call last)",
      "File \u001b[0;32m~/miniconda3/envs/load-atoms/lib/python3.8/site-packages/IPython/core/formatters.py:706\u001b[0m, in \u001b[0;36mPlainTextFormatter.__call__\u001b[0;34m(self, obj)\u001b[0m\n\u001b[1;32m    699\u001b[0m stream \u001b[39m=\u001b[39m StringIO()\n\u001b[1;32m    700\u001b[0m printer \u001b[39m=\u001b[39m pretty\u001b[39m.\u001b[39mRepresentationPrinter(stream, \u001b[39mself\u001b[39m\u001b[39m.\u001b[39mverbose,\n\u001b[1;32m    701\u001b[0m     \u001b[39mself\u001b[39m\u001b[39m.\u001b[39mmax_width, \u001b[39mself\u001b[39m\u001b[39m.\u001b[39mnewline,\n\u001b[1;32m    702\u001b[0m     max_seq_length\u001b[39m=\u001b[39m\u001b[39mself\u001b[39m\u001b[39m.\u001b[39mmax_seq_length,\n\u001b[1;32m    703\u001b[0m     singleton_pprinters\u001b[39m=\u001b[39m\u001b[39mself\u001b[39m\u001b[39m.\u001b[39msingleton_printers,\n\u001b[1;32m    704\u001b[0m     type_pprinters\u001b[39m=\u001b[39m\u001b[39mself\u001b[39m\u001b[39m.\u001b[39mtype_printers,\n\u001b[1;32m    705\u001b[0m     deferred_pprinters\u001b[39m=\u001b[39m\u001b[39mself\u001b[39m\u001b[39m.\u001b[39mdeferred_printers)\n\u001b[0;32m--> 706\u001b[0m printer\u001b[39m.\u001b[39;49mpretty(obj)\n\u001b[1;32m    707\u001b[0m printer\u001b[39m.\u001b[39mflush()\n\u001b[1;32m    708\u001b[0m \u001b[39mreturn\u001b[39;00m stream\u001b[39m.\u001b[39mgetvalue()\n",
      "File \u001b[0;32m~/miniconda3/envs/load-atoms/lib/python3.8/site-packages/IPython/lib/pretty.py:410\u001b[0m, in \u001b[0;36mRepresentationPrinter.pretty\u001b[0;34m(self, obj)\u001b[0m\n\u001b[1;32m    407\u001b[0m                         \u001b[39mreturn\u001b[39;00m meth(obj, \u001b[39mself\u001b[39m, cycle)\n\u001b[1;32m    408\u001b[0m                 \u001b[39mif\u001b[39;00m \u001b[39mcls\u001b[39m \u001b[39mis\u001b[39;00m \u001b[39mnot\u001b[39;00m \u001b[39mobject\u001b[39m \\\n\u001b[1;32m    409\u001b[0m                         \u001b[39mand\u001b[39;00m callable(\u001b[39mcls\u001b[39m\u001b[39m.\u001b[39m\u001b[39m__dict__\u001b[39m\u001b[39m.\u001b[39mget(\u001b[39m'\u001b[39m\u001b[39m__repr__\u001b[39m\u001b[39m'\u001b[39m)):\n\u001b[0;32m--> 410\u001b[0m                     \u001b[39mreturn\u001b[39;00m _repr_pprint(obj, \u001b[39mself\u001b[39;49m, cycle)\n\u001b[1;32m    412\u001b[0m     \u001b[39mreturn\u001b[39;00m _default_pprint(obj, \u001b[39mself\u001b[39m, cycle)\n\u001b[1;32m    413\u001b[0m \u001b[39mfinally\u001b[39;00m:\n",
      "File \u001b[0;32m~/miniconda3/envs/load-atoms/lib/python3.8/site-packages/IPython/lib/pretty.py:778\u001b[0m, in \u001b[0;36m_repr_pprint\u001b[0;34m(obj, p, cycle)\u001b[0m\n\u001b[1;32m    776\u001b[0m \u001b[39m\u001b[39m\u001b[39m\"\"\"A pprint that just redirects to the normal repr function.\"\"\"\u001b[39;00m\n\u001b[1;32m    777\u001b[0m \u001b[39m# Find newlines and replace them with p.break_()\u001b[39;00m\n\u001b[0;32m--> 778\u001b[0m output \u001b[39m=\u001b[39m \u001b[39mrepr\u001b[39;49m(obj)\n\u001b[1;32m    779\u001b[0m lines \u001b[39m=\u001b[39m output\u001b[39m.\u001b[39msplitlines()\n\u001b[1;32m    780\u001b[0m \u001b[39mwith\u001b[39;00m p\u001b[39m.\u001b[39mgroup():\n",
      "File \u001b[0;32m~/Desktop/load-atoms/src/load_atoms/dataset.py:35\u001b[0m, in \u001b[0;36mDataset.__repr__\u001b[0;34m(self)\u001b[0m\n\u001b[1;32m     34\u001b[0m \u001b[39mdef\u001b[39;00m \u001b[39m__repr__\u001b[39m(\u001b[39mself\u001b[39m):\n\u001b[0;32m---> 35\u001b[0m     \u001b[39mreturn\u001b[39;00m summarise_dataset(\u001b[39mself\u001b[39;49m\u001b[39m.\u001b[39;49mstructures, \u001b[39mself\u001b[39;49m\u001b[39m.\u001b[39;49m_description)\n",
      "File \u001b[0;32m~/Desktop/load-atoms/src/load_atoms/dataset.py:85\u001b[0m, in \u001b[0;36msummarise_dataset\u001b[0;34m(structures, description)\u001b[0m\n\u001b[1;32m     83\u001b[0m name \u001b[39m=\u001b[39m description\u001b[39m.\u001b[39mname \u001b[39mif\u001b[39;00m description \u001b[39mis\u001b[39;00m \u001b[39mnot\u001b[39;00m \u001b[39mNone\u001b[39;00m \u001b[39melse\u001b[39;00m \u001b[39m\"\u001b[39m\u001b[39mDataset\u001b[39m\u001b[39m\"\u001b[39m\n\u001b[1;32m     84\u001b[0m N \u001b[39m=\u001b[39m \u001b[39mlen\u001b[39m(structures)\n\u001b[0;32m---> 85\u001b[0m number_atoms \u001b[39m=\u001b[39m \u001b[39msum\u001b[39m([\u001b[39mlen\u001b[39m(structure) \u001b[39mfor\u001b[39;00m structure \u001b[39min\u001b[39;00m structures])\n\u001b[1;32m     87\u001b[0m per_atom_properties \u001b[39m=\u001b[39m intersection(\n\u001b[1;32m     88\u001b[0m     structure\u001b[39m.\u001b[39marrays\u001b[39m.\u001b[39mkeys() \u001b[39mfor\u001b[39;00m structure \u001b[39min\u001b[39;00m structures\n\u001b[1;32m     89\u001b[0m )\n\u001b[1;32m     90\u001b[0m per_atom_properties \u001b[39m-\u001b[39m\u001b[39m=\u001b[39m {\u001b[39m\"\u001b[39m\u001b[39mnumbers\u001b[39m\u001b[39m\"\u001b[39m, \u001b[39m\"\u001b[39m\u001b[39mpositions\u001b[39m\u001b[39m\"\u001b[39m}\n",
      "File \u001b[0;32m~/Desktop/load-atoms/src/load_atoms/dataset.py:85\u001b[0m, in \u001b[0;36m<listcomp>\u001b[0;34m(.0)\u001b[0m\n\u001b[1;32m     83\u001b[0m name \u001b[39m=\u001b[39m description\u001b[39m.\u001b[39mname \u001b[39mif\u001b[39;00m description \u001b[39mis\u001b[39;00m \u001b[39mnot\u001b[39;00m \u001b[39mNone\u001b[39;00m \u001b[39melse\u001b[39;00m \u001b[39m\"\u001b[39m\u001b[39mDataset\u001b[39m\u001b[39m\"\u001b[39m\n\u001b[1;32m     84\u001b[0m N \u001b[39m=\u001b[39m \u001b[39mlen\u001b[39m(structures)\n\u001b[0;32m---> 85\u001b[0m number_atoms \u001b[39m=\u001b[39m \u001b[39msum\u001b[39m([\u001b[39mlen\u001b[39;49m(structure) \u001b[39mfor\u001b[39;00m structure \u001b[39min\u001b[39;00m structures])\n\u001b[1;32m     87\u001b[0m per_atom_properties \u001b[39m=\u001b[39m intersection(\n\u001b[1;32m     88\u001b[0m     structure\u001b[39m.\u001b[39marrays\u001b[39m.\u001b[39mkeys() \u001b[39mfor\u001b[39;00m structure \u001b[39min\u001b[39;00m structures\n\u001b[1;32m     89\u001b[0m )\n\u001b[1;32m     90\u001b[0m per_atom_properties \u001b[39m-\u001b[39m\u001b[39m=\u001b[39m {\u001b[39m\"\u001b[39m\u001b[39mnumbers\u001b[39m\u001b[39m\"\u001b[39m, \u001b[39m\"\u001b[39m\u001b[39mpositions\u001b[39m\u001b[39m\"\u001b[39m}\n",
      "\u001b[0;31mTypeError\u001b[0m: object of type 'Atom' has no len()"
     ]
    }
   ],
   "source": [
    "train[0]"
   ]
  },
  {
   "cell_type": "code",
   "execution_count": 27,
   "metadata": {},
   "outputs": [
    {
     "data": {
      "text/plain": [
       "(4430, 100)"
      ]
     },
     "execution_count": 27,
     "metadata": {},
     "output_type": "execute_result"
    }
   ],
   "source": [
    "# can also obtain a train/test split with a specified number of test structures\n",
    "train, test = cross_validate_split(gap17,fold=0, n_test=100, seed=42)\n",
    "len(train), len(test)"
   ]
  },
  {
   "attachments": {},
   "cell_type": "markdown",
   "metadata": {},
   "source": [
    "The full list of in-built functions can be found at ..."
   ]
  }
 ],
 "metadata": {
  "kernelspec": {
   "display_name": "Python 3.8.15 ('load-atoms')",
   "language": "python",
   "name": "python3"
  },
  "language_info": {
   "codemirror_mode": {
    "name": "ipython",
    "version": 3
   },
   "file_extension": ".py",
   "mimetype": "text/x-python",
   "name": "python",
   "nbconvert_exporter": "python",
   "pygments_lexer": "ipython3",
   "version": "3.8.16"
  },
  "orig_nbformat": 4,
  "vscode": {
   "interpreter": {
    "hash": "0a9537a851476336c227c6cfce3f76abcef14bf472842da009f8502382cfa5a6"
   }
  }
 },
 "nbformat": 4,
 "nbformat_minor": 2
}
